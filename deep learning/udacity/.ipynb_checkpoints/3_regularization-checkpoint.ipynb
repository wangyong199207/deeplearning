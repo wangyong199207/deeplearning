{
 "cells": [
  {
   "cell_type": "markdown",
   "metadata": {
    "colab_type": "text",
    "id": "kR-4eNdK6lYS"
   },
   "source": [
    "Deep Learning\n",
    "=============\n",
    "\n",
    "Assignment 3\n",
    "------------\n",
    "\n",
    "Previously in `2_fullyconnected.ipynb`, you trained a logistic regression and a neural network model.\n",
    "\n",
    "The goal of this assignment is to explore regularization techniques."
   ]
  },
  {
   "cell_type": "code",
   "execution_count": 1,
   "metadata": {
    "cellView": "both",
    "colab": {
     "autoexec": {
      "startup": false,
      "wait_interval": 0
     }
    },
    "colab_type": "code",
    "collapsed": true,
    "id": "JLpLa8Jt7Vu4"
   },
   "outputs": [],
   "source": [
    "# These are all the modules we'll be using later. Make sure you can import them\n",
    "# before proceeding further.\n",
    "from __future__ import print_function\n",
    "import numpy as np\n",
    "import tensorflow as tf\n",
    "from six.moves import cPickle as pickle"
   ]
  },
  {
   "cell_type": "markdown",
   "metadata": {
    "colab_type": "text",
    "id": "1HrCK6e17WzV"
   },
   "source": [
    "First reload the data we generated in _notmist.ipynb_."
   ]
  },
  {
   "cell_type": "code",
   "execution_count": 2,
   "metadata": {
    "cellView": "both",
    "colab": {
     "autoexec": {
      "startup": false,
      "wait_interval": 0
     },
     "output_extras": [
      {
       "item_id": 1
      }
     ]
    },
    "colab_type": "code",
    "collapsed": false,
    "executionInfo": {
     "elapsed": 11777,
     "status": "ok",
     "timestamp": 1449849322348,
     "user": {
      "color": "",
      "displayName": "",
      "isAnonymous": false,
      "isMe": true,
      "permissionId": "",
      "photoUrl": "",
      "sessionId": "0",
      "userId": ""
     },
     "user_tz": 480
    },
    "id": "y3-cj1bpmuxc",
    "outputId": "e03576f1-ebbe-4838-c388-f1777bcc9873"
   },
   "outputs": [
    {
     "name": "stdout",
     "output_type": "stream",
     "text": [
      "Training set (200000, 28, 28) (200000,)\n",
      "Validation set (10000, 28, 28) (10000,)\n",
      "Test set (10000, 28, 28) (10000,)\n"
     ]
    }
   ],
   "source": [
    "pickle_file = 'notMNIST.pickle'\n",
    "\n",
    "with open(pickle_file, 'rb') as f:\n",
    "  save = pickle.load(f)\n",
    "  train_dataset = save['train_dataset']\n",
    "  train_labels = save['train_labels']\n",
    "  valid_dataset = save['valid_dataset']\n",
    "  valid_labels = save['valid_labels']\n",
    "  test_dataset = save['test_dataset']\n",
    "  test_labels = save['test_labels']\n",
    "  del save  # hint to help gc free up memory\n",
    "  print('Training set', train_dataset.shape, train_labels.shape)\n",
    "  print('Validation set', valid_dataset.shape, valid_labels.shape)\n",
    "  print('Test set', test_dataset.shape, test_labels.shape)"
   ]
  },
  {
   "cell_type": "markdown",
   "metadata": {
    "colab_type": "text",
    "id": "L7aHrm6nGDMB"
   },
   "source": [
    "Reformat into a shape that's more adapted to the models we're going to train:\n",
    "- data as a flat matrix,\n",
    "- labels as float 1-hot encodings."
   ]
  },
  {
   "cell_type": "code",
   "execution_count": 3,
   "metadata": {
    "cellView": "both",
    "colab": {
     "autoexec": {
      "startup": false,
      "wait_interval": 0
     },
     "output_extras": [
      {
       "item_id": 1
      }
     ]
    },
    "colab_type": "code",
    "collapsed": false,
    "executionInfo": {
     "elapsed": 11728,
     "status": "ok",
     "timestamp": 1449849322356,
     "user": {
      "color": "",
      "displayName": "",
      "isAnonymous": false,
      "isMe": true,
      "permissionId": "",
      "photoUrl": "",
      "sessionId": "0",
      "userId": ""
     },
     "user_tz": 480
    },
    "id": "IRSyYiIIGIzS",
    "outputId": "3f8996ee-3574-4f44-c953-5c8a04636582"
   },
   "outputs": [
    {
     "name": "stdout",
     "output_type": "stream",
     "text": [
      "Training set (200000, 784) (200000, 10)\n",
      "Validation set (10000, 784) (10000, 10)\n",
      "Test set (10000, 784) (10000, 10)\n"
     ]
    }
   ],
   "source": [
    "image_size = 28\n",
    "num_labels = 10\n",
    "\n",
    "def reformat(dataset, labels):\n",
    "  dataset = dataset.reshape((-1, image_size * image_size)).astype(np.float32)\n",
    "  # Map 1 to [0.0, 1.0, 0.0 ...], 2 to [0.0, 0.0, 1.0 ...]\n",
    "  labels = (np.arange(num_labels) == labels[:,None]).astype(np.float32)\n",
    "  return dataset, labels\n",
    "train_dataset, train_labels = reformat(train_dataset, train_labels)\n",
    "valid_dataset, valid_labels = reformat(valid_dataset, valid_labels)\n",
    "test_dataset, test_labels = reformat(test_dataset, test_labels)\n",
    "print('Training set', train_dataset.shape, train_labels.shape)\n",
    "print('Validation set', valid_dataset.shape, valid_labels.shape)\n",
    "print('Test set', test_dataset.shape, test_labels.shape)"
   ]
  },
  {
   "cell_type": "code",
   "execution_count": 5,
   "metadata": {
    "cellView": "both",
    "colab": {
     "autoexec": {
      "startup": false,
      "wait_interval": 0
     }
    },
    "colab_type": "code",
    "collapsed": true,
    "id": "RajPLaL_ZW6w"
   },
   "outputs": [],
   "source": [
    "def accuracy(predictions, labels):\n",
    "  return (100.0 * np.sum(np.argmax(predictions, 1) == np.argmax(labels, 1))\n",
    "          / predictions.shape[0])"
   ]
  },
  {
   "cell_type": "markdown",
   "metadata": {
    "colab_type": "text",
    "id": "sgLbUAQ1CW-1"
   },
   "source": [
    "---\n",
    "Problem 1\n",
    "---------\n",
    "\n",
    "Introduce and tune L2 regularization for both logistic and neural network models. Remember that L2 amounts to adding a penalty on the norm of the weights to the loss. In TensorFlow, you can compute the L2 loss for a tensor `t` using `nn.l2_loss(t)`. The right amount of regularization should improve your validation / test accuracy.\n",
    "\n",
    "---"
   ]
  },
  {
   "cell_type": "code",
   "execution_count": 4,
   "metadata": {
    "collapsed": true
   },
   "outputs": [],
   "source": [
    "def init_weights(shape, name):\n",
    "    return tf.Variable(tf.random_normal(shape, stddev=0.01), name=name)"
   ]
  },
  {
   "cell_type": "code",
   "execution_count": 10,
   "metadata": {
    "collapsed": true
   },
   "outputs": [],
   "source": [
    "X = tf.placeholder(tf.float32, shape=(None, image_size * image_size))\n",
    "Y = tf.placeholder(tf.float32, [None, num_labels])\n",
    "beta_regul = tf.placeholder(tf.float32)\n",
    "\n",
    "weights = init_weights([image_size * image_size, num_labels], 'weights')\n",
    "biases = init_weights([num_labels],'bias')"
   ]
  },
  {
   "cell_type": "code",
   "execution_count": 11,
   "metadata": {
    "collapsed": true
   },
   "outputs": [],
   "source": [
    "logits = tf.matmul(X, weights) + biases\n",
    "loss = tf.reduce_mean(\n",
    "    tf.nn.softmax_cross_entropy_with_logits(logits, Y)) + beta_regul * tf.nn.l2_loss(weights)\n",
    "optimizer = tf.train.GradientDescentOptimizer(0.5).minimize(loss)"
   ]
  },
  {
   "cell_type": "code",
   "execution_count": 13,
   "metadata": {
    "collapsed": false
   },
   "outputs": [],
   "source": [
    "with tf.name_scope(\"accuracy\"):\n",
    "    correct_pred = tf.equal(tf.argmax(Y,1), tf.argmax(logits,1)) # Count correct predictions\n",
    "    acc = tf.reduce_mean(tf.cast(correct_pred, \"float\")) # Cast boolean to float to average"
   ]
  },
  {
   "cell_type": "code",
   "execution_count": null,
   "metadata": {
    "collapsed": true
   },
   "outputs": [],
   "source": []
  },
  {
   "cell_type": "code",
   "execution_count": 23,
   "metadata": {
    "collapsed": false
   },
   "outputs": [
    {
     "name": "stdout",
     "output_type": "stream",
     "text": [
      "0 [0.81640625]\n",
      "1 [0.8359375]\n",
      "2 [0.83984375]\n",
      "3 [0.8671875]\n",
      "4 [0.81640625]\n",
      "5 [0.75390625]\n",
      "6 [0.84375]\n",
      "7 [0.828125]\n",
      "8 [0.83984375]\n",
      "9 [0.77734375]\n",
      "10 [0.80859375]\n",
      "11 [0.8515625]\n",
      "12 [0.796875]\n",
      "13 [0.81640625]\n",
      "14 [0.828125]\n",
      "15 [0.80078125]\n",
      "16 [0.82421875]\n",
      "17 [0.84375]\n",
      "18 [0.84375]\n",
      "19 [0.80859375]\n",
      "20 [0.81640625]\n",
      "21 [0.8515625]\n",
      "22 [0.83203125]\n",
      "23 [0.84375]\n",
      "24 [0.79296875]\n",
      "25 [0.8515625]\n",
      "26 [0.8359375]\n",
      "27 [0.80859375]\n",
      "28 [0.86328125]\n",
      "29 [0.78515625]\n",
      "30 [0.8359375]\n",
      "31 [0.8125]\n",
      "32 [0.81640625]\n",
      "33 [0.84765625]\n",
      "34 [0.796875]\n",
      "35 [0.8125]\n",
      "36 [0.8359375]\n",
      "37 [0.83203125]\n",
      "38 [0.83203125]\n",
      "39 [0.859375]\n",
      "40 [0.81640625]\n",
      "41 [0.80859375]\n",
      "42 [0.81640625]\n",
      "43 [0.8359375]\n",
      "44 [0.8515625]\n",
      "45 [0.796875]\n",
      "46 [0.7890625]\n",
      "47 [0.8359375]\n",
      "48 [0.84765625]\n",
      "49 [0.8203125]\n",
      "50 [0.85546875]\n",
      "51 [0.84375]\n",
      "52 [0.85546875]\n",
      "53 [0.86328125]\n",
      "54 [0.7578125]\n",
      "55 [0.8046875]\n",
      "56 [0.7421875]\n",
      "57 [0.84765625]\n",
      "58 [0.8125]\n",
      "59 [0.796875]\n",
      "60 [0.80078125]\n",
      "61 [0.796875]\n",
      "62 [0.80859375]\n",
      "63 [0.83203125]\n",
      "64 [0.78125]\n",
      "65 [0.83203125]\n",
      "66 [0.8203125]\n",
      "67 [0.8203125]\n",
      "68 [0.796875]\n",
      "69 [0.77734375]\n",
      "70 [0.8359375]\n",
      "71 [0.8359375]\n",
      "72 [0.8515625]\n",
      "73 [0.84375]\n",
      "74 [0.81640625]\n",
      "75 [0.84765625]\n",
      "76 [0.84375]\n",
      "77 [0.8203125]\n",
      "78 [0.8671875]\n",
      "79 [0.828125]\n",
      "80 [0.796875]\n",
      "81 [0.85546875]\n",
      "82 [0.83984375]\n",
      "83 [0.80859375]\n",
      "84 [0.82421875]\n",
      "85 [0.80078125]\n",
      "86 [0.82421875]\n",
      "87 [0.82421875]\n",
      "88 [0.80859375]\n",
      "89 [0.81640625]\n",
      "90 [0.86328125]\n",
      "91 [0.87890625]\n",
      "92 [0.80859375]\n",
      "93 [0.796875]\n",
      "94 [0.8125]\n",
      "95 [0.828125]\n",
      "96 [0.8046875]\n",
      "97 [0.7890625]\n",
      "98 [0.80859375]\n",
      "99 [0.82421875]\n",
      "[0.875]\n"
     ]
    }
   ],
   "source": [
    "batch_size = 128\n",
    "test_size = 256\n",
    "\n",
    "# Launch the graph in a session\n",
    "with tf.Session() as sess:    \n",
    "    # you need to initialize all variables\n",
    "    tf.initialize_all_variables().run()\n",
    "\n",
    "    for i in range(100):\n",
    "        training_batch = zip(range(0, len(train_dataset), batch_size),\n",
    "                             range(batch_size, len(train_dataset)+1, batch_size))\n",
    "        for start, end in training_batch:\n",
    "            sess.run(optimizer, feed_dict={X: train_dataset[start:end], \n",
    "                                          Y: train_labels[start:end],\n",
    "                                          beta_regul : 1e-3})\n",
    "\n",
    "        test_indices = np.arange(len(valid_dataset)) # Get A Test Batch\n",
    "        np.random.shuffle(test_indices)\n",
    "        test_indices = test_indices[0:test_size]\n",
    "\n",
    "        accuracy = sess.run([acc], feed_dict={X: valid_dataset[test_indices],\n",
    "                                              Y: valid_labels[test_indices],\n",
    "                                              beta_regul: 0,})        \n",
    "        print(i, accuracy)\n",
    "        \n",
    "    test_accuracy = sess.run([acc], feed_dict={X: test_dataset[test_indices],\n",
    "                                    Y: test_labels[test_indices],\n",
    "                                    beta_regul: 0,})\n",
    "    print (test_accuracy)"
   ]
  },
  {
   "cell_type": "code",
   "execution_count": 31,
   "metadata": {
    "collapsed": false
   },
   "outputs": [
    {
     "name": "stdout",
     "output_type": "stream",
     "text": [
      "0 [0.8229]\n",
      "1 [0.82279998]\n",
      "2 [0.824]\n",
      "3 [0.82410002]\n",
      "4 [0.82370001]\n",
      "5 [0.8233]\n",
      "6 [0.8233]\n",
      "7 [0.8229]\n",
      "8 [0.82270002]\n",
      "9 [0.82279998]\n",
      "[0.89219999]\n",
      "0 [0.8229]\n",
      "1 [0.82279998]\n",
      "2 [0.82359999]\n",
      "3 [0.82440001]\n",
      "4 [0.82389998]\n",
      "5 [0.82349998]\n",
      "6 [0.82349998]\n",
      "7 [0.82340002]\n",
      "8 [0.8233]\n",
      "9 [0.82300001]\n",
      "[0.89249998]\n",
      "0 [0.82279998]\n",
      "1 [0.82230002]\n",
      "2 [0.82370001]\n",
      "3 [0.82380003]\n",
      "4 [0.82429999]\n",
      "5 [0.82380003]\n",
      "6 [0.8233]\n",
      "7 [0.8233]\n",
      "8 [0.8233]\n",
      "9 [0.82309997]\n",
      "[0.8919]\n",
      "0 [0.8229]\n",
      "1 [0.82239997]\n",
      "2 [0.8229]\n",
      "3 [0.82349998]\n",
      "4 [0.82419997]\n",
      "5 [0.824]\n",
      "6 [0.82389998]\n",
      "7 [0.82380003]\n",
      "8 [0.82370001]\n",
      "9 [0.8233]\n",
      "[0.89170003]\n",
      "0 [0.82309997]\n",
      "1 [0.82249999]\n",
      "2 [0.82270002]\n",
      "3 [0.82270002]\n",
      "4 [0.82319999]\n",
      "5 [0.82349998]\n",
      "6 [0.82359999]\n",
      "7 [0.82389998]\n",
      "8 [0.82389998]\n",
      "9 [0.82389998]\n",
      "[0.8915]\n",
      "0 [0.82300001]\n",
      "1 [0.82270002]\n",
      "2 [0.82270002]\n",
      "3 [0.8229]\n",
      "4 [0.82270002]\n",
      "5 [0.82300001]\n",
      "6 [0.82309997]\n",
      "7 [0.82309997]\n",
      "8 [0.82340002]\n",
      "9 [0.82340002]\n",
      "[0.89170003]\n",
      "0 [0.82260001]\n",
      "1 [0.82300001]\n",
      "2 [0.82239997]\n",
      "3 [0.82249999]\n",
      "4 [0.82260001]\n",
      "5 [0.82279998]\n",
      "6 [0.82279998]\n",
      "7 [0.82279998]\n",
      "8 [0.8229]\n",
      "9 [0.8229]\n",
      "[0.8915]\n",
      "0 [0.82230002]\n",
      "1 [0.82300001]\n",
      "2 [0.82239997]\n",
      "3 [0.82230002]\n",
      "4 [0.82230002]\n",
      "5 [0.82239997]\n",
      "6 [0.82230002]\n",
      "7 [0.82230002]\n",
      "8 [0.82230002]\n",
      "9 [0.82230002]\n",
      "[0.89130002]\n",
      "0 [0.82239997]\n",
      "1 [0.8229]\n",
      "2 [0.82279998]\n",
      "3 [0.82279998]\n",
      "4 [0.82270002]\n",
      "5 [0.82279998]\n",
      "6 [0.82270002]\n",
      "7 [0.82270002]\n",
      "8 [0.82270002]\n",
      "9 [0.82270002]\n",
      "[0.89170003]\n",
      "0 [0.82260001]\n",
      "1 [0.82239997]\n",
      "2 [0.82239997]\n",
      "3 [0.82260001]\n",
      "4 [0.82249999]\n",
      "5 [0.82249999]\n",
      "6 [0.82249999]\n",
      "7 [0.82249999]\n",
      "8 [0.82249999]\n",
      "9 [0.82249999]\n",
      "[0.89069998]\n",
      "0 [0.82209998]\n",
      "1 [0.8222]\n",
      "2 [0.82190001]\n",
      "3 [0.82209998]\n",
      "4 [0.82209998]\n",
      "5 [0.82209998]\n",
      "6 [0.82209998]\n",
      "7 [0.82209998]\n",
      "8 [0.82209998]\n",
      "9 [0.82209998]\n",
      "[0.89029998]\n",
      "0 [0.82169998]\n",
      "1 [0.82169998]\n",
      "2 [0.82160002]\n",
      "3 [0.82160002]\n",
      "4 [0.82160002]\n",
      "5 [0.82160002]\n",
      "6 [0.82160002]\n",
      "7 [0.82160002]\n",
      "8 [0.82160002]\n",
      "9 [0.82160002]\n",
      "[0.8901]\n",
      "0 [0.82029998]\n",
      "1 [0.82059997]\n",
      "2 [0.82069999]\n",
      "3 [0.82069999]\n",
      "4 [0.82069999]\n",
      "5 [0.82069999]\n",
      "6 [0.82069999]\n",
      "7 [0.82069999]\n",
      "8 [0.82069999]\n",
      "9 [0.82069999]\n",
      "[0.88959998]\n",
      "0 [0.81940001]\n",
      "1 [0.81980002]\n",
      "2 [0.81989998]\n",
      "3 [0.81989998]\n",
      "4 [0.81989998]\n",
      "5 [0.81989998]\n",
      "6 [0.81989998]\n",
      "7 [0.81989998]\n",
      "8 [0.81989998]\n",
      "9 [0.81989998]\n",
      "[0.889]\n",
      "0 [0.81870002]\n",
      "1 [0.81900001]\n",
      "2 [0.81900001]\n",
      "3 [0.81900001]\n",
      "4 [0.81900001]\n",
      "5 [0.81900001]\n",
      "6 [0.81900001]\n",
      "7 [0.81900001]\n",
      "8 [0.81900001]\n",
      "9 [0.81900001]\n",
      "[0.8883]\n",
      "0 [0.81739998]\n",
      "1 [0.81770003]\n",
      "2 [0.81770003]\n",
      "3 [0.81770003]\n",
      "4 [0.81770003]\n",
      "5 [0.81770003]\n",
      "6 [0.81770003]\n",
      "7 [0.81770003]\n",
      "8 [0.81770003]\n",
      "9 [0.81770003]\n",
      "[0.88800001]\n",
      "0 [0.81709999]\n",
      "1 [0.81720001]\n",
      "2 [0.81720001]\n",
      "3 [0.81720001]\n",
      "4 [0.81720001]\n",
      "5 [0.81720001]\n",
      "6 [0.81720001]\n",
      "7 [0.81720001]\n",
      "8 [0.81720001]\n",
      "9 [0.81720001]\n",
      "[0.88770002]\n",
      "0 [0.81550002]\n",
      "1 [0.81590003]\n",
      "2 [0.81590003]\n",
      "3 [0.81590003]\n",
      "4 [0.81590003]\n",
      "5 [0.81590003]\n",
      "6 [0.81590003]\n",
      "7 [0.81590003]\n",
      "8 [0.81590003]\n",
      "9 [0.81590003]\n",
      "[0.88669997]\n",
      "0 [0.81370002]\n",
      "1 [0.81389999]\n",
      "2 [0.81400001]\n",
      "3 [0.81400001]\n",
      "4 [0.81400001]\n",
      "5 [0.81400001]\n",
      "6 [0.81400001]\n",
      "7 [0.81400001]\n",
      "8 [0.81400001]\n",
      "9 [0.81400001]\n",
      "[0.88499999]\n",
      "0 [0.81199998]\n",
      "1 [0.8118]\n",
      "2 [0.8118]\n",
      "3 [0.8118]\n",
      "4 [0.8118]\n",
      "5 [0.8118]\n",
      "6 [0.8118]\n",
      "7 [0.8118]\n",
      "8 [0.8118]\n",
      "9 [0.8118]\n",
      "[0.8836]\n"
     ]
    }
   ],
   "source": [
    "regul_val = [pow(10, i) for i in np.arange(-4, -2, 0.1)]\n",
    "accuracy_val = []\n",
    "\n",
    "for regul in regul_val:\n",
    "    with tf.Session() as sess:    \n",
    "        # you need to initialize all variables\n",
    "        tf.initialize_all_variables().run()\n",
    "\n",
    "        for i in range(10):\n",
    "            training_batch = zip(range(0, len(train_dataset), batch_size),\n",
    "                                 range(batch_size, len(train_dataset)+1, batch_size))\n",
    "            for start, end in training_batch:\n",
    "                sess.run(optimizer, feed_dict={X: train_dataset[start:end], \n",
    "                                               Y: train_labels[start:end],\n",
    "                                               beta_regul : regul})\n",
    "\n",
    "            test_indices = np.arange(len(valid_dataset)) # Get A Test Batch\n",
    "            np.random.shuffle(test_indices)\n",
    "            test_indices = test_indices[0:test_size]\n",
    "\n",
    "            accuracy = sess.run([acc], feed_dict={X: valid_dataset[test_indices],\n",
    "                                                  Y: valid_labels[test_indices],\n",
    "                                                  beta_regul: 0,})        \n",
    "            print(i, accuracy)\n",
    "        \n",
    "        test_accuracy = sess.run([acc], feed_dict={X: test_dataset[test_indices],\n",
    "                                        Y: test_labels[test_indices],\n",
    "                                        beta_regul: 0,})\n",
    "        print (test_accuracy)\n",
    "        accuracy_val.append(test_accuracy)"
   ]
  },
  {
   "cell_type": "code",
   "execution_count": 11,
   "metadata": {
    "collapsed": true
   },
   "outputs": [],
   "source": [
    "# Some personnal imports\n",
    "import matplotlib.pyplot as plt\n",
    "%matplotlib inline"
   ]
  },
  {
   "cell_type": "code",
   "execution_count": 33,
   "metadata": {
    "collapsed": false
   },
   "outputs": [
    {
     "data": {
      "image/png": "[encoded data removed]",
      "text/plain": [
       "<matplotlib.figure.Figure at 0x13a28c790>"
      ]
     },
     "metadata": {},
     "output_type": "display_data"
    }
   ],
   "source": [
    "plt.semilogx(regul_val, accuracy_val)\n",
    "plt.grid(True)\n",
    "plt.title('Test accuracy by regularization (logistic)')\n",
    "plt.show()"
   ]
  },
  {
   "cell_type": "code",
   "execution_count": 7,
   "metadata": {
    "collapsed": false
   },
   "outputs": [],
   "source": [
    "batch_size = 128\n",
    "num_hidden_nodes = 1024\n",
    "\n",
    "X = tf.placeholder(tf.float32, shape=(None, image_size * image_size))\n",
    "Y = tf.placeholder(tf.float32, [None, num_labels])\n",
    "beta_regul = tf.placeholder(tf.float32)\n",
    "\n",
    "weights1 = init_weights([image_size * image_size, num_hidden_nodes], 'w1')\n",
    "biases1 = init_weights([num_hidden_nodes],'b1')\n",
    "weights2 = init_weights([num_hidden_nodes, num_labels], 'w2')\n",
    "biases2 = init_weights([num_labels],'b2')\n",
    "\n",
    "layer1 = tf.nn.relu(tf.matmul(X, weights1) + biases1)\n",
    "logits = tf.matmul(layer1, weights2) + biases2\n",
    "\n",
    "with tf.name_scope(\"cost\"):\n",
    "    loss = tf.reduce_mean(\n",
    "        tf.nn.softmax_cross_entropy_with_logits(logits, Y)) + \\\n",
    "        beta_regul * (tf.nn.l2_loss(weights1) + tf.nn.l2_loss(weights2))\n",
    "    optimizer = tf.train.GradientDescentOptimizer(0.5).minimize(loss)\n",
    "\n",
    "with tf.name_scope(\"accuracy\"):\n",
    "    correct_pred = tf.equal(tf.argmax(Y,1), tf.argmax(logits,1)) # Count correct predictions\n",
    "    acc = tf.reduce_mean(tf.cast(correct_pred, \"float\")) # Cast boolean to float to average"
   ]
  },
  {
   "cell_type": "code",
   "execution_count": 8,
   "metadata": {
    "collapsed": false
   },
   "outputs": [
    {
     "name": "stdout",
     "output_type": "stream",
     "text": [
      "0 0.8643 0.450859\n",
      "1 0.8714 0.425118\n",
      "2 0.8741 0.416573\n",
      "3 0.877 0.408606\n",
      "4 0.8792 0.402405\n",
      "5 0.8785 0.402861\n",
      "6 0.88 0.400943\n",
      "7 0.8808 0.396971\n",
      "8 0.8821 0.396365\n",
      "9 0.8823 0.394241\n",
      "[0.94050002]\n"
     ]
    }
   ],
   "source": [
    "# Launch the graph in a session\n",
    "with tf.Session() as sess:    \n",
    "    # you need to initialize all variables\n",
    "    tf.initialize_all_variables().run()\n",
    "\n",
    "    for i in range(10):\n",
    "        training_batch = zip(range(0, len(train_dataset), batch_size),\n",
    "                             range(batch_size, len(train_dataset)+1, batch_size))\n",
    "        for start, end in training_batch:\n",
    "            sess.run(optimizer, feed_dict={X: train_dataset[start:end], \n",
    "                                          Y: train_labels[start:end],\n",
    "                                          beta_regul : 1e-3})\n",
    "\n",
    "        #test_indices = np.arange(len(valid_dataset)) # Get A Test Batch\n",
    "        #np.random.shuffle(test_indices)\n",
    "        #test_indices = test_indices[0:test_size]\n",
    "\n",
    "        accuracy,cost = sess.run([acc,loss], feed_dict={X: valid_dataset,\n",
    "                                              Y: valid_labels,\n",
    "                                              beta_regul: 0})        \n",
    "        print(i, accuracy, cost)\n",
    "        \n",
    "    test_accuracy = sess.run([acc], feed_dict={X: test_dataset,\n",
    "                                    Y: test_labels,\n",
    "                                    beta_regul: 0})\n",
    "    print (test_accuracy)"
   ]
  },
  {
   "cell_type": "code",
   "execution_count": 10,
   "metadata": {
    "collapsed": false
   },
   "outputs": [
    {
     "name": "stdout",
     "output_type": "stream",
     "text": [
      "0 0.8693 0.436686\n",
      "1 0.8817 0.405116\n",
      "2 0.8858 0.393666\n",
      "3 0.8875 0.396134\n",
      "4 0.8886 0.399977\n",
      "5 0.8878 0.40753\n",
      "6 0.888 0.41295\n",
      "7 0.8877 0.425484\n",
      "8 0.8786 0.442863\n",
      "9 0.8809 0.44087\n",
      "[0.93169999]\n",
      "0 0.8689 0.43469\n",
      "1 0.8796 0.40589\n",
      "2 0.8839 0.397854\n",
      "3 0.8856 0.398523\n",
      "4 0.8871 0.39841\n",
      "5 0.888 0.406153\n",
      "6 0.8876 0.414439\n",
      "7 0.8878 0.418889\n",
      "8 0.8778 0.430318\n",
      "9 0.8886 0.434141\n",
      "[0.94620001]\n",
      "0 0.8685 0.435531\n",
      "1 0.8803 0.406743\n",
      "2 0.8835 0.399688\n",
      "3 0.8857 0.39676\n",
      "4 0.8876 0.396724\n",
      "5 0.887 0.403367\n",
      "6 0.8861 0.41408\n",
      "7 0.8868 0.417041\n",
      "8 0.8863 0.422857\n",
      "9 0.8872 0.423403\n",
      "[0.94599998]\n",
      "0 0.8678 0.434976\n",
      "1 0.8808 0.403988\n",
      "2 0.885 0.390788\n",
      "3 0.8864 0.389752\n",
      "4 0.887 0.389183\n",
      "5 0.8898 0.391449\n",
      "6 0.8891 0.393936\n",
      "7 0.8902 0.393959\n",
      "8 0.8917 0.397913\n",
      "9 0.8896 0.403298\n",
      "[0.94569999]\n",
      "0 0.8683 0.435812\n",
      "1 0.8793 0.406826\n",
      "2 0.8839 0.396459\n",
      "3 0.886 0.391149\n",
      "4 0.8893 0.388369\n",
      "5 0.8905 0.388736\n",
      "6 0.8896 0.388258\n",
      "7 0.8908 0.390303\n",
      "8 0.8897 0.392074\n",
      "9 0.8904 0.394981\n",
      "[0.94630003]\n",
      "0 0.8652 0.442924\n",
      "1 0.8759 0.414412\n",
      "2 0.8833 0.397164\n",
      "3 0.8858 0.390861\n",
      "4 0.8879 0.388342\n",
      "5 0.8867 0.390384\n",
      "6 0.888 0.386123\n",
      "7 0.889 0.386536\n",
      "8 0.889 0.387523\n",
      "9 0.8898 0.38707\n",
      "[0.94730002]\n",
      "0 0.869 0.438492\n",
      "1 0.8767 0.408787\n",
      "2 0.8816 0.398595\n",
      "3 0.8834 0.392864\n",
      "4 0.8864 0.387925\n",
      "5 0.8853 0.38594\n",
      "6 0.885 0.385357\n",
      "7 0.8881 0.383903\n",
      "8 0.8875 0.383765\n",
      "9 0.8863 0.384889\n",
      "[0.94660002]\n",
      "0 0.8668 0.440872\n",
      "1 0.8773 0.410693\n",
      "2 0.8825 0.398918\n",
      "3 0.883 0.395362\n",
      "4 0.8848 0.388287\n",
      "5 0.8866 0.386896\n",
      "6 0.8863 0.387732\n",
      "7 0.8864 0.385421\n",
      "8 0.8865 0.382893\n",
      "9 0.8862 0.381502\n",
      "[0.94419998]\n",
      "0 0.8656 0.441896\n",
      "1 0.8746 0.412933\n",
      "2 0.8783 0.401103\n",
      "3 0.8808 0.395338\n",
      "4 0.8821 0.392183\n",
      "5 0.8817 0.392868\n",
      "6 0.884 0.386992\n",
      "7 0.8837 0.387466\n",
      "8 0.8858 0.383305\n",
      "9 0.8882 0.379389\n",
      "[0.94489998]\n",
      "0 0.8661 0.445131\n",
      "1 0.8733 0.4167\n",
      "2 0.8794 0.403666\n",
      "3 0.8816 0.397101\n",
      "4 0.8821 0.394356\n",
      "5 0.882 0.390985\n",
      "6 0.883 0.391287\n",
      "7 0.884 0.388819\n",
      "8 0.8841 0.387655\n",
      "9 0.8845 0.38618\n",
      "[0.94260001]\n",
      "0 0.8646 0.448088\n",
      "1 0.8725 0.421827\n",
      "2 0.8761 0.411717\n",
      "3 0.8775 0.406354\n",
      "4 0.8793 0.403497\n",
      "5 0.8795 0.399527\n",
      "6 0.8808 0.397239\n",
      "7 0.8797 0.396783\n",
      "8 0.882 0.392504\n",
      "9 0.8813 0.393656\n",
      "[0.94010001]\n",
      "0 0.8633 0.455219\n",
      "1 0.8708 0.429955\n",
      "2 0.8738 0.420987\n",
      "3 0.8756 0.41447\n",
      "4 0.8772 0.410477\n",
      "5 0.8784 0.407911\n",
      "6 0.8777 0.405887\n",
      "7 0.8783 0.406317\n",
      "8 0.8786 0.406437\n",
      "9 0.8779 0.405214\n",
      "[0.93830001]\n",
      "0 0.8612 0.461959\n",
      "1 0.8677 0.437479\n",
      "2 0.8706 0.428777\n",
      "3 0.8722 0.424474\n",
      "4 0.8736 0.421921\n",
      "5 0.873 0.42099\n",
      "6 0.8728 0.418963\n",
      "7 0.8731 0.41848\n",
      "8 0.8741 0.416921\n",
      "9 0.8763 0.41436\n",
      "[0.93769997]\n",
      "0 0.8586 0.469775\n",
      "1 0.8661 0.448546\n",
      "2 0.8664 0.441854\n",
      "3 0.8678 0.438842\n",
      "4 0.8694 0.43639\n",
      "5 0.87 0.432819\n",
      "6 0.8705 0.431816\n",
      "7 0.8707 0.430987\n",
      "8 0.871 0.429254\n",
      "9 0.8722 0.428857\n",
      "[0.9339]\n",
      "0 0.8559 0.480152\n",
      "1 0.8605 0.462792\n",
      "2 0.8617 0.457208\n",
      "3 0.8632 0.45237\n",
      "4 0.8635 0.450437\n",
      "5 0.8641 0.449421\n",
      "6 0.8646 0.446572\n",
      "7 0.8646 0.447343\n",
      "8 0.8647 0.447607\n",
      "9 0.8657 0.445302\n",
      "[0.92869997]\n",
      "0 0.8517 0.494307\n",
      "1 0.8567 0.476145\n",
      "2 0.8578 0.471848\n",
      "3 0.8592 0.468684\n",
      "4 0.8592 0.467532\n",
      "5 0.8596 0.467008\n",
      "6 0.8607 0.464728\n",
      "7 0.8607 0.464087\n",
      "8 0.861 0.463275\n",
      "9 0.861 0.46382\n",
      "[0.92430001]\n",
      "0 0.8471 0.50915\n",
      "1 0.8503 0.49536\n",
      "2 0.852 0.490289\n",
      "3 0.8528 0.487442\n",
      "4 0.8541 0.485979\n",
      "5 0.8537 0.484599\n",
      "6 0.8541 0.484472\n",
      "7 0.8542 0.483615\n",
      "8 0.8549 0.483252\n",
      "9 0.855 0.482474\n",
      "[0.91869998]\n",
      "0 0.8416 0.524401\n",
      "1 0.8463 0.513443\n",
      "2 0.8472 0.509116\n",
      "3 0.8475 0.507681\n",
      "4 0.8483 0.506962\n",
      "5 0.8496 0.505178\n",
      "6 0.8491 0.504705\n",
      "7 0.8477 0.504538\n",
      "8 0.8479 0.505074\n",
      "9 0.8482 0.50512\n",
      "[0.9131]\n",
      "0 0.8358 0.54186\n",
      "1 0.8392 0.5342\n",
      "2 0.8395 0.530907\n",
      "3 0.8404 0.529859\n",
      "4 0.8407 0.528106\n",
      "5 0.8421 0.526542\n",
      "6 0.8412 0.526732\n",
      "7 0.8408 0.52718\n",
      "8 0.8413 0.526574\n",
      "9 0.8422 0.526399\n",
      "[0.9084]\n",
      "0 0.8313 0.560633\n",
      "1 0.8326 0.555574\n",
      "2 0.8335 0.552144\n",
      "3 0.8342 0.550672\n",
      "4 0.8348 0.551039\n",
      "5 0.8347 0.550579\n",
      "6 0.8348 0.549967\n",
      "7 0.8355 0.54893\n",
      "8 0.8348 0.548689\n",
      "9 0.8352 0.548747\n",
      "[0.90200001]\n"
     ]
    }
   ],
   "source": [
    "regul_val = [pow(10, i) for i in np.arange(-4, -2, 0.1)]\n",
    "accuracy_val = []\n",
    "\n",
    "for regul in regul_val:\n",
    "    with tf.Session() as sess:    \n",
    "        # you need to initialize all variables\n",
    "        tf.initialize_all_variables().run()\n",
    "\n",
    "        for i in range(10):\n",
    "            training_batch = zip(range(0, len(train_dataset), batch_size),\n",
    "                                 range(batch_size, len(train_dataset)+1, batch_size))\n",
    "            for start, end in training_batch:\n",
    "                sess.run(optimizer, feed_dict={X: train_dataset[start:end], \n",
    "                                               Y: train_labels[start:end],\n",
    "                                               beta_regul : regul})\n",
    "\n",
    "            #test_indices = np.arange(len(valid_dataset)) # Get A Test Batch\n",
    "            #np.random.shuffle(test_indices)\n",
    "            #test_indices = test_indices[0:test_size]\n",
    "\n",
    "            accuracy,cost = sess.run([acc,loss], feed_dict={X: valid_dataset,\n",
    "                                                  Y: valid_labels,\n",
    "                                                  beta_regul: 0})        \n",
    "            print(i, accuracy,cost)\n",
    "        \n",
    "        test_accuracy = sess.run([acc], feed_dict={X: test_dataset,\n",
    "                                        Y: test_labels,\n",
    "                                        beta_regul: 0})\n",
    "        print (test_accuracy)\n",
    "        accuracy_val.append(test_accuracy)"
   ]
  },
  {
   "cell_type": "code",
   "execution_count": 12,
   "metadata": {
    "collapsed": false
   },
   "outputs": [
    {
     "data": {
      "image/png": "[encoded data removed]",
      "text/plain": [
       "<matplotlib.figure.Figure at 0x142092510>"
      ]
     },
     "metadata": {},
     "output_type": "display_data"
    }
   ],
   "source": [
    "plt.semilogx(regul_val, accuracy_val)\n",
    "plt.grid(True)\n",
    "plt.title('Test accuracy by regularization (logistic)')\n",
    "plt.show()"
   ]
  },
  {
   "cell_type": "markdown",
   "metadata": {
    "colab_type": "text",
    "id": "na8xX2yHZzNF"
   },
   "source": [
    "---\n",
    "Problem 2\n",
    "---------\n",
    "Let's demonstrate an extreme case of overfitting. Restrict your training data to just a few batches. What happens?\n",
    "\n",
    "---"
   ]
  },
  {
   "cell_type": "code",
   "execution_count": null,
   "metadata": {
    "collapsed": true
   },
   "outputs": [],
   "source": []
  },
  {
   "cell_type": "markdown",
   "metadata": {
    "colab_type": "text",
    "id": "ww3SCBUdlkRc"
   },
   "source": [
    "---\n",
    "Problem 3\n",
    "---------\n",
    "Introduce Dropout on the hidden layer of the neural network. Remember: Dropout should only be introduced during training, not evaluation, otherwise your evaluation results would be stochastic as well. TensorFlow provides `nn.dropout()` for that, but you have to make sure it's only inserted during training.\n",
    "\n",
    "What happens to our extreme overfitting case?\n",
    "\n",
    "---"
   ]
  },
  {
   "cell_type": "code",
   "execution_count": null,
   "metadata": {
    "collapsed": true
   },
   "outputs": [],
   "source": []
  },
  {
   "cell_type": "markdown",
   "metadata": {
    "colab_type": "text",
    "id": "-b1hTz3VWZjw"
   },
   "source": [
    "---\n",
    "Problem 4\n",
    "---------\n",
    "\n",
    "Try to get the best performance you can using a multi-layer model! The best reported test accuracy using a deep network is [97.1%](http://yaroslavvb.blogspot.com/2011/09/notmnist-dataset.html?showComment=1391023266211#c8758720086795711595).\n",
    "\n",
    "One avenue you can explore is to add multiple layers.\n",
    "\n",
    "Another one is to use learning rate decay:\n",
    "\n",
    "    global_step = tf.Variable(0)  # count the number of steps taken.\n",
    "    learning_rate = tf.train.exponential_decay(0.5, global_step, ...)\n",
    "    optimizer = tf.train.GradientDescentOptimizer(learning_rate).minimize(loss, global_step=global_step)\n",
    " \n",
    " ---\n"
   ]
  },
  {
   "cell_type": "code",
   "execution_count": null,
   "metadata": {
    "collapsed": true
   },
   "outputs": [],
   "source": []
  }
 ],
 "metadata": {
  "colab": {
   "default_view": {},
   "name": "3_regularization.ipynb",
   "provenance": [],
   "version": "0.3.2",
   "views": {}
  },
  "kernelspec": {
   "display_name": "Python 2",
   "language": "python",
   "name": "python2"
  },
  "language_info": {
   "codemirror_mode": {
    "name": "ipython",
    "version": 2
   },
   "file_extension": ".py",
   "mimetype": "text/x-python",
   "name": "python",
   "nbconvert_exporter": "python",
   "pygments_lexer": "ipython2",
   "version": "2.7.12"
  }
 },
 "nbformat": 4,
 "nbformat_minor": 0
}
