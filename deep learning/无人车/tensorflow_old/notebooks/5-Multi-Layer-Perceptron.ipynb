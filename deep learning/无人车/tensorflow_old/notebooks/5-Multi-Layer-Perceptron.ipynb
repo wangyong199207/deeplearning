{
 "cells": [
  {
   "cell_type": "markdown",
   "metadata": {},
   "source": [
    "## Multi-layer Perceptron"
   ]
  },
  {
   "cell_type": "code",
   "execution_count": 1,
   "metadata": {
    "collapsed": true
   },
   "outputs": [],
   "source": [
    "import tensorflow as tf\n",
    "from tensorflow.examples.tutorials.mnist import input_data"
   ]
  },
  {
   "cell_type": "markdown",
   "metadata": {},
   "source": [
    "### Load data"
   ]
  },
  {
   "cell_type": "code",
   "execution_count": 2,
   "metadata": {
    "collapsed": false
   },
   "outputs": [
    {
     "name": "stdout",
     "output_type": "stream",
     "text": [
      "Extracting MNIST_data/train-images-idx3-ubyte.gz\n",
      "Extracting MNIST_data/train-labels-idx1-ubyte.gz\n",
      "Extracting MNIST_data/t10k-images-idx3-ubyte.gz\n",
      "Extracting MNIST_data/t10k-labels-idx1-ubyte.gz\n"
     ]
    }
   ],
   "source": [
    "mnist = input_data.read_data_sets(\"MNIST_data/\", one_hot=True)\n",
    "trX, trY, teX, teY = mnist.train.images, mnist.train.labels, mnist.test.images, mnist.test.labels"
   ]
  },
  {
   "cell_type": "markdown",
   "metadata": {},
   "source": [
    "### Helper functions"
   ]
  },
  {
   "cell_type": "code",
   "execution_count": 3,
   "metadata": {
    "collapsed": false
   },
   "outputs": [],
   "source": [
    "def init_weights(shape, name):\n",
    "    return tf.Variable(tf.random_normal(shape, stddev=0.01), name=name)\n",
    "\n",
    "# This network is the same as the previous one except with an extra hidden layer + dropout\n",
    "def model(X, w_h1, w_h2, w_o, p_keep_input, p_keep_hidden):\n",
    "    # Add layer name scopes for better graph visualization\n",
    "    with tf.name_scope(\"layer1\"):\n",
    "        X = tf.nn.dropout(X, p_keep_input)\n",
    "        h = tf.nn.relu(tf.matmul(X, w_h1))\n",
    "    with tf.name_scope(\"layer2\"):\n",
    "        h = tf.nn.dropout(h, p_keep_hidden)\n",
    "        h2 = tf.nn.relu(tf.matmul(h, w_h2))\n",
    "    with tf.name_scope(\"layer3\"):\n",
    "        h2 = tf.nn.dropout(h2, p_keep_hidden)\n",
    "        return tf.matmul(h2, w_o)"
   ]
  },
  {
   "cell_type": "markdown",
   "metadata": {},
   "source": [
    "### Build graph"
   ]
  },
  {
   "cell_type": "code",
   "execution_count": 4,
   "metadata": {
    "collapsed": true
   },
   "outputs": [],
   "source": [
    "X = tf.placeholder(\"float\", [None, 784], name=\"X\")\n",
    "Y = tf.placeholder(\"float\", [None, 10], name=\"Y\")\n",
    "\n",
    "w_h1 = init_weights([784, 625], \"w_h1\")\n",
    "w_h2 = init_weights([625, 625], \"w_h2\")\n",
    "w_o = init_weights([625, 10], \"w_o\")\n",
    "\n",
    "# Add histogram summaries for weights\n",
    "tf.histogram_summary(\"w_h1\", w_h1)\n",
    "tf.histogram_summary(\"w_h2\", w_h2)\n",
    "tf.histogram_summary(\"w_o\", w_o)\n",
    "\n",
    "p_keep_input = tf.placeholder(\"float\", name=\"p_keep_input\")\n",
    "p_keep_hidden = tf.placeholder(\"float\", name=\"p_keep_hidden\")\n",
    "py_x = model(X, w_h1, w_h2, w_o, p_keep_input, p_keep_hidden)\n",
    "\n",
    "with tf.name_scope(\"cost\"):\n",
    "    cost = tf.reduce_mean(tf.nn.softmax_cross_entropy_with_logits(py_x, Y))\n",
    "    train_op = tf.train.RMSPropOptimizer(0.001, 0.9).minimize(cost)\n",
    "    # Add scalar summary for cost\n",
    "    tf.scalar_summary(\"cost\", cost)\n",
    "\n",
    "with tf.name_scope(\"accuracy\"):\n",
    "    correct_pred = tf.equal(tf.argmax(Y, 1), tf.argmax(py_x, 1)) # Count correct predictions\n",
    "    acc_op = tf.reduce_mean(tf.cast(correct_pred, \"float\")) # Cast boolean to float to average\n",
    "    # Add scalar summary for accuracy\n",
    "    tf.scalar_summary(\"accuracy\", acc_op)"
   ]
  },
  {
   "cell_type": "markdown",
   "metadata": {},
   "source": [
    "### Launch graph"
   ]
  },
  {
   "cell_type": "code",
   "execution_count": 5,
   "metadata": {
    "collapsed": false
   },
   "outputs": [
    {
     "name": "stdout",
     "output_type": "stream",
     "text": [
      "(0, 0.93290001)\n",
      "(1, 0.96249998)\n",
      "(2, 0.96890002)\n",
      "(3, 0.97399998)\n",
      "(4, 0.97530001)\n",
      "(5, 0.9745)\n",
      "(6, 0.97750002)\n",
      "(7, 0.97759998)\n",
      "(8, 0.9806)\n",
      "(9, 0.97930002)\n",
      "(10, 0.98000002)\n",
      "(11, 0.98110002)\n",
      "(12, 0.98199999)\n",
      "(13, 0.98250002)\n",
      "(14, 0.98150003)\n",
      "(15, 0.98110002)\n",
      "(16, 0.98280001)\n",
      "(17, 0.98400003)\n",
      "(18, 0.98329997)\n",
      "(19, 0.98259997)\n",
      "(20, 0.98199999)\n",
      "(21, 0.98339999)\n",
      "(22, 0.98140001)\n",
      "(23, 0.98280001)\n",
      "(24, 0.98180002)\n",
      "(25, 0.98189998)\n",
      "(26, 0.98220003)\n",
      "(27, 0.98360002)\n",
      "(28, 0.98379999)\n",
      "(29, 0.98400003)\n",
      "(30, 0.98439997)\n",
      "(31, 0.98400003)\n",
      "(32, 0.98199999)\n",
      "(33, 0.98379999)\n",
      "(34, 0.98409998)\n",
      "(35, 0.98320001)\n",
      "(36, 0.98470002)\n",
      "(37, 0.98339999)\n",
      "(38, 0.98280001)\n",
      "(39, 0.98509997)\n",
      "(40, 0.98439997)\n",
      "(41, 0.98269999)\n",
      "(42, 0.98269999)\n",
      "(43, 0.98449999)\n",
      "(44, 0.98439997)\n",
      "(45, 0.98409998)\n",
      "(46, 0.98329997)\n",
      "(47, 0.9835)\n",
      "(48, 0.98360002)\n",
      "(49, 0.98430002)\n",
      "(50, 0.98400003)\n",
      "(51, 0.98589998)\n",
      "(52, 0.98369998)\n",
      "(53, 0.98269999)\n",
      "(54, 0.98509997)\n",
      "(55, 0.98360002)\n",
      "(56, 0.9842)\n",
      "(57, 0.98479998)\n",
      "(58, 0.9842)\n",
      "(59, 0.98180002)\n",
      "(60, 0.9842)\n",
      "(61, 0.9849)\n",
      "(62, 0.98500001)\n",
      "(63, 0.98369998)\n",
      "(64, 0.98320001)\n",
      "(65, 0.98439997)\n",
      "(66, 0.98449999)\n",
      "(67, 0.98580003)\n",
      "(68, 0.98409998)\n",
      "(69, 0.98430002)\n",
      "(70, 0.98250002)\n",
      "(71, 0.98329997)\n",
      "(72, 0.98280001)\n",
      "(73, 0.98360002)\n",
      "(74, 0.98439997)\n",
      "(75, 0.98430002)\n",
      "(76, 0.98430002)\n",
      "(77, 0.98369998)\n",
      "(78, 0.98479998)\n",
      "(79, 0.98500001)\n",
      "(80, 0.98460001)\n",
      "(81, 0.98470002)\n",
      "(82, 0.98339999)\n",
      "(83, 0.9835)\n",
      "(84, 0.98430002)\n",
      "(85, 0.98460001)\n",
      "(86, 0.98430002)\n",
      "(87, 0.98519999)\n",
      "(88, 0.98470002)\n",
      "(89, 0.98509997)\n",
      "(90, 0.98559999)\n",
      "(91, 0.98409998)\n",
      "(92, 0.98360002)\n",
      "(93, 0.9842)\n",
      "(94, 0.98400003)\n",
      "(95, 0.98580003)\n",
      "(96, 0.98460001)\n",
      "(97, 0.98479998)\n",
      "(98, 0.98519999)\n",
      "(99, 0.98409998)\n"
     ]
    }
   ],
   "source": [
    "with tf.Session() as sess:\n",
    "    # create a log writer. run 'tensorboard --logdir=./logs/multi-layer-perceptron'\n",
    "    writer = tf.train.SummaryWriter(\"./logs/multi-layer-perceptron\", sess.graph)\n",
    "    merged = tf.merge_all_summaries()\n",
    "\n",
    "    # you need to initialize all variables\n",
    "    tf.initialize_all_variables().run()\n",
    "\n",
    "    for i in range(100):\n",
    "        for start, end in zip(range(0, len(trX), 128), range(128, len(trX)+1, 128)):\n",
    "            sess.run(train_op, feed_dict={X: trX[start:end], Y: trY[start:end],\n",
    "                                          p_keep_input: 0.8, p_keep_hidden: 0.5})\n",
    "        summary, acc = sess.run([merged, acc_op], feed_dict={X: teX, Y: teY,\n",
    "                                          p_keep_input: 1.0, p_keep_hidden: 1.0})\n",
    "        writer.add_summary(summary, i)\n",
    "        print(i, acc)"
   ]
  },
  {
   "cell_type": "code",
   "execution_count": null,
   "metadata": {
    "collapsed": true
   },
   "outputs": [],
   "source": []
  },
  {
   "cell_type": "code",
   "execution_count": null,
   "metadata": {
    "collapsed": true
   },
   "outputs": [],
   "source": []
  },
  {
   "cell_type": "code",
   "execution_count": null,
   "metadata": {
    "collapsed": true
   },
   "outputs": [],
   "source": []
  }
 ],
 "metadata": {
  "kernelspec": {
   "display_name": "Python 2",
   "language": "python",
   "name": "python2"
  },
  "language_info": {
   "codemirror_mode": {
    "name": "ipython",
    "version": 2
   },
   "file_extension": ".py",
   "mimetype": "text/x-python",
   "name": "python",
   "nbconvert_exporter": "python",
   "pygments_lexer": "ipython2",
   "version": "2.7.12"
  }
 },
 "nbformat": 4,
 "nbformat_minor": 1
}
