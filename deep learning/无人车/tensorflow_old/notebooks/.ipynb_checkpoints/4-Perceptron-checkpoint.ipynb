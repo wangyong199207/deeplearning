{
 "cells": [
  {
   "cell_type": "markdown",
   "metadata": {},
   "source": [
    "## Perceptron"
   ]
  },
  {
   "cell_type": "code",
   "execution_count": 1,
   "metadata": {
    "collapsed": true
   },
   "outputs": [],
   "source": [
    "import tensorflow as tf\n",
    "import numpy as np\n",
    "from tensorflow.examples.tutorials.mnist import input_data"
   ]
  },
  {
   "cell_type": "markdown",
   "metadata": {},
   "source": [
    "### Load data"
   ]
  },
  {
   "cell_type": "code",
   "execution_count": 2,
   "metadata": {
    "collapsed": false
   },
   "outputs": [
    {
     "name": "stdout",
     "output_type": "stream",
     "text": [
      "Extracting MNIST_data/train-images-idx3-ubyte.gz\n",
      "Extracting MNIST_data/train-labels-idx1-ubyte.gz\n",
      "Extracting MNIST_data/t10k-images-idx3-ubyte.gz\n",
      "Extracting MNIST_data/t10k-labels-idx1-ubyte.gz\n"
     ]
    }
   ],
   "source": [
    "mnist = input_data.read_data_sets(\"MNIST_data/\", one_hot=True)\n",
    "trX, trY, teX, teY = mnist.train.images, mnist.train.labels, mnist.test.images, mnist.test.labels"
   ]
  },
  {
   "cell_type": "markdown",
   "metadata": {},
   "source": [
    "### Build graph"
   ]
  },
  {
   "cell_type": "code",
   "execution_count": 3,
   "metadata": {
    "collapsed": false
   },
   "outputs": [],
   "source": [
    "X = tf.placeholder(\"float\", [None, 784]) # input image\n",
    "Y = tf.placeholder(\"float\", [None, 10]) # outupt: 10 classes\n",
    "\n",
    "w_h = tf.Variable(tf.random_normal([784, 625], stddev=0.01)) # hidden layer: 625 neurons\n",
    "w_o = tf.Variable(tf.random_normal([625, 10], stddev=0.01)) # output layer\n",
    "tf.histogram_summary(\"w_h\", w_h)\n",
    "tf.histogram_summary(\"w_o\", w_o)\n",
    "\n",
    "h = tf.nn.sigmoid(tf.matmul(X, w_h))\n",
    "py_x = tf.matmul(h, w_o)\n",
    "\n",
    "with tf.name_scope(\"cost\"):\n",
    "    cost = tf.reduce_mean(tf.nn.softmax_cross_entropy_with_logits(py_x, Y))\n",
    "    train_op = tf.train.GradientDescentOptimizer(0.05).minimize(cost)\n",
    "    tf.scalar_summary(\"cost\", cost)\n",
    "\n",
    "with tf.name_scope(\"accuracy\"):\n",
    "    correct_pred = tf.equal(tf.argmax(Y, 1), tf.argmax(py_x, 1)) # Count correct predictions\n",
    "    acc = tf.reduce_mean(tf.cast(correct_pred, \"float\")) # Cast boolean to float to average\n",
    "    tf.scalar_summary(\"accuracy\", acc)\n",
    "    "
   ]
  },
  {
   "cell_type": "markdown",
   "metadata": {},
   "source": [
    "### Launch graph\n",
    "- After launch graph, run `tensorboard --logdir=./logs/perceptron` to launch tensorboard\n",
    "- Open `http://localhost:6006` in brower"
   ]
  },
  {
   "cell_type": "code",
   "execution_count": 5,
   "metadata": {
    "collapsed": false
   },
   "outputs": [
    {
     "name": "stdout",
     "output_type": "stream",
     "text": [
      "(0, 0.68049997)\n",
      "(1, 0.82260001)\n",
      "(2, 0.86250001)\n",
      "(3, 0.88069999)\n",
      "(4, 0.88810003)\n",
      "(5, 0.89349997)\n",
      "(6, 0.89709997)\n",
      "(7, 0.90090001)\n",
      "(8, 0.90399998)\n",
      "(9, 0.90600002)\n",
      "(10, 0.90859997)\n",
      "(11, 0.91009998)\n",
      "(12, 0.91170001)\n",
      "(13, 0.91329998)\n",
      "(14, 0.9145)\n",
      "(15, 0.9149)\n",
      "(16, 0.91549999)\n",
      "(17, 0.9163)\n",
      "(18, 0.91769999)\n",
      "(19, 0.91820002)\n",
      "(20, 0.91900003)\n",
      "(21, 0.9192)\n",
      "(22, 0.91979998)\n",
      "(23, 0.92009997)\n",
      "(24, 0.92040002)\n",
      "(25, 0.92089999)\n",
      "(26, 0.92159998)\n",
      "(27, 0.9217)\n",
      "(28, 0.92259997)\n",
      "(29, 0.92299998)\n",
      "(30, 0.92309999)\n",
      "(31, 0.92330003)\n",
      "(32, 0.9242)\n",
      "(33, 0.9249)\n",
      "(34, 0.9253)\n",
      "(35, 0.92559999)\n",
      "(36, 0.92619997)\n",
      "(37, 0.92680001)\n",
      "(38, 0.92699999)\n",
      "(39, 0.92690003)\n",
      "(40, 0.9271)\n",
      "(41, 0.92729998)\n",
      "(42, 0.92799997)\n",
      "(43, 0.92930001)\n",
      "(44, 0.9296)\n",
      "(45, 0.93000001)\n",
      "(46, 0.9303)\n",
      "(47, 0.93150002)\n",
      "(48, 0.93190002)\n",
      "(49, 0.93269998)\n",
      "(50, 0.9332)\n",
      "(51, 0.93360001)\n",
      "(52, 0.93430001)\n",
      "(53, 0.93510002)\n",
      "(54, 0.93559998)\n",
      "(55, 0.93610001)\n",
      "(56, 0.93709999)\n",
      "(57, 0.93760002)\n",
      "(58, 0.93839997)\n",
      "(59, 0.93900001)\n",
      "(60, 0.93940002)\n",
      "(61, 0.94019997)\n",
      "(62, 0.94050002)\n",
      "(63, 0.94120002)\n",
      "(64, 0.94120002)\n",
      "(65, 0.94150001)\n",
      "(66, 0.9418)\n",
      "(67, 0.94190001)\n",
      "(68, 0.94239998)\n",
      "(69, 0.94349998)\n",
      "(70, 0.94370002)\n",
      "(71, 0.9443)\n",
      "(72, 0.94450003)\n",
      "(73, 0.94480002)\n",
      "(74, 0.9454)\n",
      "(75, 0.94569999)\n",
      "(76, 0.94620001)\n",
      "(77, 0.94690001)\n",
      "(78, 0.94739997)\n",
      "(79, 0.94809997)\n",
      "(80, 0.94840002)\n",
      "(81, 0.94910002)\n",
      "(82, 0.94929999)\n",
      "(83, 0.94999999)\n",
      "(84, 0.95060003)\n",
      "(85, 0.95090002)\n",
      "(86, 0.95120001)\n",
      "(87, 0.95130002)\n",
      "(88, 0.9515)\n",
      "(89, 0.95139998)\n",
      "(90, 0.95169997)\n",
      "(91, 0.9522)\n",
      "(92, 0.95249999)\n",
      "(93, 0.95270002)\n",
      "(94, 0.95300001)\n",
      "(95, 0.95349997)\n",
      "(96, 0.95380002)\n",
      "(97, 0.9544)\n",
      "(98, 0.9544)\n",
      "(99, 0.95480001)\n"
     ]
    }
   ],
   "source": [
    "# Launch the graph in a session\n",
    "with tf.Session() as sess:\n",
    "    # create a log writer. run 'tensorboard --logdir=./logs/perceptron'\n",
    "    writer = tf.train.SummaryWriter(\"./logs/perceptron\", sess.graph)\n",
    "    merged = tf.merge_all_summaries()\n",
    "    \n",
    "    # you need to initialize all variables\n",
    "    tf.initialize_all_variables().run()\n",
    "\n",
    "    # 100 batches of size 128\n",
    "    for i in range(100):\n",
    "        for start, end in zip(range(0, len(trX), 128), range(128, len(trX)+1, 128)):\n",
    "            sess.run(train_op, feed_dict={X: trX[start:end], Y: trY[start:end]})\n",
    "        summary, accuracy = sess.run([merged, acc], feed_dict={X: teX, Y: teY})\n",
    "        writer.add_summary(summary, i)\n",
    "        # print (iter, accuracy)\n",
    "        print(i, accuracy)"
   ]
  },
  {
   "cell_type": "code",
   "execution_count": null,
   "metadata": {
    "collapsed": true
   },
   "outputs": [],
   "source": []
  }
 ],
 "metadata": {
  "kernelspec": {
   "display_name": "Python 2",
   "language": "python",
   "name": "python2"
  },
  "language_info": {
   "codemirror_mode": {
    "name": "ipython",
    "version": 2
   },
   "file_extension": ".py",
   "mimetype": "text/x-python",
   "name": "python",
   "nbconvert_exporter": "python",
   "pygments_lexer": "ipython2",
   "version": "2.7.12"
  }
 },
 "nbformat": 4,
 "nbformat_minor": 1
}
