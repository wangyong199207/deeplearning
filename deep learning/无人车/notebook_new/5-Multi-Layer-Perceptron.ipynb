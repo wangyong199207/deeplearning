{
 "cells": [
  {
   "cell_type": "markdown",
   "metadata": {},
   "source": [
    "## Multi-layer Perceptron"
   ]
  },
  {
   "cell_type": "code",
   "execution_count": 1,
   "metadata": {
    "collapsed": true
   },
   "outputs": [],
   "source": [
    "import tensorflow as tf\n",
    "from tensorflow.examples.tutorials.mnist import input_data"
   ]
  },
  {
   "cell_type": "markdown",
   "metadata": {},
   "source": [
    "### Load data"
   ]
  },
  {
   "cell_type": "code",
   "execution_count": 2,
   "metadata": {
    "collapsed": false
   },
   "outputs": [
    {
     "name": "stdout",
     "output_type": "stream",
     "text": [
      "Extracting MNIST_data/train-images-idx3-ubyte.gz\n",
      "Extracting MNIST_data/train-labels-idx1-ubyte.gz\n",
      "Extracting MNIST_data/t10k-images-idx3-ubyte.gz\n",
      "Extracting MNIST_data/t10k-labels-idx1-ubyte.gz\n"
     ]
    }
   ],
   "source": [
    "mnist = input_data.read_data_sets(\"MNIST_data/\", one_hot=True)\n",
    "trX, trY, teX, teY = mnist.train.images, mnist.train.labels, mnist.test.images, mnist.test.labels"
   ]
  },
  {
   "cell_type": "markdown",
   "metadata": {},
   "source": [
    "### Helper functions"
   ]
  },
  {
   "cell_type": "code",
   "execution_count": 3,
   "metadata": {
    "collapsed": false
   },
   "outputs": [],
   "source": [
    "def init_weights(shape, name):\n",
    "    return tf.Variable(tf.random_normal(shape, stddev=0.01), name=name)\n",
    "\n",
    "# This network is the same as the previous one except with an extra hidden layer + dropout\n",
    "def model(X, w_h1, w_h2, w_o, p_keep_input, p_keep_hidden):\n",
    "    # Add layer name scopes for better graph visualization\n",
    "    with tf.name_scope(\"layer1\"):\n",
    "        X = tf.nn.dropout(X, p_keep_input)\n",
    "        h = tf.nn.relu(tf.matmul(X, w_h1))\n",
    "    with tf.name_scope(\"layer2\"):\n",
    "        h = tf.nn.dropout(h, p_keep_hidden)\n",
    "        h2 = tf.nn.relu(tf.matmul(h, w_h2))\n",
    "    with tf.name_scope(\"layer3\"):\n",
    "        h2 = tf.nn.dropout(h2, p_keep_hidden)\n",
    "        return tf.matmul(h2, w_o)"
   ]
  },
  {
   "cell_type": "markdown",
   "metadata": {},
   "source": [
    "### Build graph"
   ]
  },
  {
   "cell_type": "code",
   "execution_count": 4,
   "metadata": {
    "collapsed": true
   },
   "outputs": [],
   "source": [
    "X = tf.placeholder(\"float\", [None, 784], name=\"X\")\n",
    "Y = tf.placeholder(\"float\", [None, 10], name=\"Y\")\n",
    "\n",
    "w_h1 = init_weights([784, 625], \"w_h1\")\n",
    "w_h2 = init_weights([625, 625], \"w_h2\")\n",
    "w_o = init_weights([625, 10], \"w_o\")\n",
    "\n",
    "# Add histogram summaries for weights\n",
    "tf.histogram_summary(\"w_h1\", w_h1)\n",
    "tf.histogram_summary(\"w_h2\", w_h2)\n",
    "tf.histogram_summary(\"w_o\", w_o)\n",
    "\n",
    "p_keep_input = tf.placeholder(\"float\", name=\"p_keep_input\")\n",
    "p_keep_hidden = tf.placeholder(\"float\", name=\"p_keep_hidden\")\n",
    "py_x = model(X, w_h1, w_h2, w_o, p_keep_input, p_keep_hidden)\n",
    "\n",
    "with tf.name_scope(\"cost\"):\n",
    "    cost = tf.reduce_mean(tf.nn.softmax_cross_entropy_with_logits(py_x, Y))\n",
    "    train_op = tf.train.RMSPropOptimizer(0.001, 0.9).minimize(cost)\n",
    "    # Add scalar summary for cost\n",
    "    tf.scalar_summary(\"cost\", cost)\n",
    "\n",
    "with tf.name_scope(\"accuracy\"):\n",
    "    correct_pred = tf.equal(tf.argmax(Y, 1), tf.argmax(py_x, 1)) # Count correct predictions\n",
    "    acc_op = tf.reduce_mean(tf.cast(correct_pred, \"float\")) # Cast boolean to float to average\n",
    "    # Add scalar summary for accuracy\n",
    "    tf.scalar_summary(\"accuracy\", acc_op)"
   ]
  },
  {
   "cell_type": "markdown",
   "metadata": {},
   "source": [
    "### Launch graph"
   ]
  },
  {
   "cell_type": "code",
   "execution_count": 5,
   "metadata": {
    "collapsed": false
   },
   "outputs": [
    {
     "name": "stdout",
     "output_type": "stream",
     "text": [
      "(0, 0.9320001)\n",
      "(1, 0.96030021)\n",
      "(2, 0.96940011)\n",
      "(3, 0.97550011)\n",
      "(4, 0.97510016)\n",
      "(5, 0.97370017)\n",
      "(6, 0.97700012)\n",
      "(7, 0.97720015)\n",
      "(8, 0.97610021)\n",
      "(9, 0.97840011)\n",
      "(10, 0.97970009)\n",
      "(11, 0.98090011)\n",
      "(12, 0.98140013)\n",
      "(13, 0.97980005)\n",
      "(14, 0.98010015)\n",
      "(15, 0.98100013)\n",
      "(16, 0.98100019)\n",
      "(17, 0.98240012)\n",
      "(18, 0.98080009)\n",
      "(19, 0.98100013)\n",
      "(20, 0.98190016)\n",
      "(21, 0.98220009)\n",
      "(22, 0.98120022)\n",
      "(23, 0.98110008)\n",
      "(24, 0.98310018)\n",
      "(25, 0.98160017)\n",
      "(26, 0.9819001)\n",
      "(27, 0.98260009)\n",
      "(28, 0.98300016)\n",
      "(29, 0.98300004)\n",
      "(30, 0.98260009)\n",
      "(31, 0.98270011)\n",
      "(32, 0.98270017)\n",
      "(33, 0.98290014)\n",
      "(34, 0.98220015)\n",
      "(35, 0.98240012)\n",
      "(36, 0.9819001)\n",
      "(37, 0.98300016)\n",
      "(38, 0.98350012)\n",
      "(39, 0.98250014)\n",
      "(40, 0.98300016)\n",
      "(41, 0.98300016)\n",
      "(42, 0.98210019)\n",
      "(43, 0.98260015)\n",
      "(44, 0.98380011)\n",
      "(45, 0.98360008)\n",
      "(46, 0.98280013)\n",
      "(47, 0.9830001)\n",
      "(48, 0.98360014)\n",
      "(49, 0.9823001)\n",
      "(50, 0.98340011)\n",
      "(51, 0.98240006)\n",
      "(52, 0.98470008)\n",
      "(53, 0.98260021)\n",
      "(54, 0.98410004)\n",
      "(55, 0.98380011)\n",
      "(56, 0.9837001)\n",
      "(57, 0.98430014)\n",
      "(58, 0.98470014)\n",
      "(59, 0.98280007)\n",
      "(60, 0.98380005)\n",
      "(61, 0.98350012)\n",
      "(62, 0.98430014)\n",
      "(63, 0.98400015)\n",
      "(64, 0.98470008)\n",
      "(65, 0.98420012)\n",
      "(66, 0.98540014)\n",
      "(67, 0.9841001)\n",
      "(68, 0.98510021)\n",
      "(69, 0.98410016)\n",
      "(70, 0.98490012)\n",
      "(71, 0.98530006)\n",
      "(72, 0.98550016)\n",
      "(73, 0.98440015)\n",
      "(74, 0.98540008)\n",
      "(75, 0.98490018)\n",
      "(76, 0.98570019)\n",
      "(77, 0.98470014)\n",
      "(78, 0.98390007)\n",
      "(79, 0.98500013)\n",
      "(80, 0.98580015)\n",
      "(81, 0.98460019)\n",
      "(82, 0.98160011)\n",
      "(83, 0.98510015)\n",
      "(84, 0.98570013)\n",
      "(85, 0.98530012)\n",
      "(86, 0.98380011)\n",
      "(87, 0.98390013)\n",
      "(88, 0.98450011)\n",
      "(89, 0.98370016)\n",
      "(90, 0.98440015)\n",
      "(91, 0.98440009)\n",
      "(92, 0.98370016)\n",
      "(93, 0.98550004)\n",
      "(94, 0.98500007)\n",
      "(95, 0.9859001)\n",
      "(96, 0.98320013)\n",
      "(97, 0.98510009)\n",
      "(98, 0.98470014)\n",
      "(99, 0.98500013)\n"
     ]
    }
   ],
   "source": [
    "with tf.Session() as sess:\n",
    "    # create a log writer. run 'tensorboard --logdir=./logs/multi-layer-perceptron'\n",
    "    writer = tf.train.SummaryWriter(\"./logs/multi-layer-perceptron\", sess.graph)\n",
    "    merged = tf.merge_all_summaries()\n",
    "\n",
    "    # you need to initialize all variables\n",
    "    tf.initialize_all_variables().run()\n",
    "\n",
    "    for i in range(100):\n",
    "        for start, end in zip(range(0, len(trX), 128), range(128, len(trX)+1, 128)):\n",
    "            sess.run(train_op, feed_dict={X: trX[start:end], Y: trY[start:end],\n",
    "                                          p_keep_input: 0.8, p_keep_hidden: 0.5})\n",
    "        summary, acc = sess.run([merged, acc_op], feed_dict={X: teX, Y: teY,\n",
    "                                          p_keep_input: 1.0, p_keep_hidden: 1.0})\n",
    "        writer.add_summary(summary, i)\n",
    "        print(i, acc)"
   ]
  },
  {
   "cell_type": "code",
   "execution_count": null,
   "metadata": {
    "collapsed": true
   },
   "outputs": [],
   "source": []
  }
 ],
 "metadata": {
  "kernelspec": {
   "display_name": "Python 2",
   "language": "python",
   "name": "python2"
  },
  "language_info": {
   "codemirror_mode": {
    "name": "ipython",
    "version": 2
   },
   "file_extension": ".py",
   "mimetype": "text/x-python",
   "name": "python",
   "nbconvert_exporter": "python",
   "pygments_lexer": "ipython2",
   "version": "2.7.12"
  }
 },
 "nbformat": 4,
 "nbformat_minor": 1
}
