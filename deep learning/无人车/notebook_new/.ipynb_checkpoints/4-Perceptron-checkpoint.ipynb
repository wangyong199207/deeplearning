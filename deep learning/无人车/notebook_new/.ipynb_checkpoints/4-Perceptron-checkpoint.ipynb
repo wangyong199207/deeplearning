{
 "cells": [
  {
   "cell_type": "markdown",
   "metadata": {},
   "source": [
    "## Perceptron"
   ]
  },
  {
   "cell_type": "code",
   "execution_count": 1,
   "metadata": {
    "collapsed": true
   },
   "outputs": [],
   "source": [
    "import tensorflow as tf\n",
    "import numpy as np\n",
    "from tensorflow.examples.tutorials.mnist import input_data"
   ]
  },
  {
   "cell_type": "markdown",
   "metadata": {},
   "source": [
    "### Load data"
   ]
  },
  {
   "cell_type": "code",
   "execution_count": 2,
   "metadata": {
    "collapsed": false
   },
   "outputs": [
    {
     "name": "stdout",
     "output_type": "stream",
     "text": [
      "Extracting MNIST_data/train-images-idx3-ubyte.gz\n",
      "Extracting MNIST_data/train-labels-idx1-ubyte.gz\n",
      "Extracting MNIST_data/t10k-images-idx3-ubyte.gz\n",
      "Extracting MNIST_data/t10k-labels-idx1-ubyte.gz\n"
     ]
    }
   ],
   "source": [
    "mnist = input_data.read_data_sets(\"MNIST_data/\", one_hot=True)\n",
    "trX, trY, teX, teY = mnist.train.images, mnist.train.labels, mnist.test.images, mnist.test.labels"
   ]
  },
  {
   "cell_type": "markdown",
   "metadata": {},
   "source": [
    "### Build graph"
   ]
  },
  {
   "cell_type": "code",
   "execution_count": 3,
   "metadata": {
    "collapsed": false
   },
   "outputs": [],
   "source": [
    "X = tf.placeholder(\"float\", [None, 784]) # input image\n",
    "Y = tf.placeholder(\"float\", [None, 10]) # outupt: 10 classes\n",
    "\n",
    "w_h = tf.Variable(tf.random_normal([784, 625], stddev=0.01)) # hidden layer: 625 neurons\n",
    "w_o = tf.Variable(tf.random_normal([625, 10], stddev=0.01)) # output layer\n",
    "tf.histogram_summary(\"w_h\", w_h)\n",
    "tf.histogram_summary(\"w_o\", w_o)\n",
    "\n",
    "h = tf.nn.sigmoid(tf.matmul(X, w_h))\n",
    "py_x = tf.matmul(h, w_o)\n",
    "\n",
    "with tf.name_scope(\"cost\"):\n",
    "    cost = tf.reduce_mean(tf.nn.softmax_cross_entropy_with_logits(py_x, Y))\n",
    "    train_op = tf.train.GradientDescentOptimizer(0.05).minimize(cost)\n",
    "    tf.scalar_summary(\"cost\", cost)\n",
    "\n",
    "with tf.name_scope(\"accuracy\"):\n",
    "    correct_pred = tf.equal(tf.argmax(Y, 1), tf.argmax(py_x, 1)) # Count correct predictions\n",
    "    acc = tf.reduce_mean(tf.cast(correct_pred, \"float\")) # Cast boolean to float to average\n",
    "    tf.scalar_summary(\"accuracy\", acc)"
   ]
  },
  {
   "cell_type": "markdown",
   "metadata": {},
   "source": [
    "### Launch graph\n",
    "- After launch graph, run `tensorboard --logdir=./logs/perceptron` to launch tensorboard\n",
    "- Open `http://localhost:6006` in brower"
   ]
  },
  {
   "cell_type": "code",
   "execution_count": 4,
   "metadata": {
    "collapsed": false
   },
   "outputs": [
    {
     "name": "stdout",
     "output_type": "stream",
     "text": [
      "(0, 0.68629998)\n",
      "(1, 0.82000005)\n",
      "(2, 0.86110002)\n",
      "(3, 0.88060009)\n",
      "(4, 0.88779998)\n",
      "(5, 0.8932001)\n",
      "(6, 0.89760011)\n",
      "(7, 0.90020007)\n",
      "(8, 0.90330011)\n",
      "(9, 0.9054001)\n",
      "(10, 0.90750009)\n",
      "(11, 0.90980005)\n",
      "(12, 0.91170013)\n",
      "(13, 0.91240013)\n",
      "(14, 0.91420007)\n",
      "(15, 0.91490006)\n",
      "(16, 0.91570002)\n",
      "(17, 0.91630012)\n",
      "(18, 0.91780019)\n",
      "(19, 0.91770005)\n",
      "(20, 0.91860008)\n",
      "(21, 0.91930008)\n",
      "(22, 0.91980016)\n",
      "(23, 0.92020005)\n",
      "(24, 0.92050016)\n",
      "(25, 0.92100012)\n",
      "(26, 0.9216001)\n",
      "(27, 0.92180014)\n",
      "(28, 0.92240012)\n",
      "(29, 0.92270005)\n",
      "(30, 0.92350006)\n",
      "(31, 0.92390013)\n",
      "(32, 0.92440021)\n",
      "(33, 0.92440009)\n",
      "(34, 0.92460006)\n",
      "(35, 0.92510009)\n",
      "(36, 0.92560011)\n",
      "(37, 0.92620003)\n",
      "(38, 0.92650014)\n",
      "(39, 0.92700011)\n",
      "(40, 0.92720014)\n",
      "(41, 0.92780012)\n",
      "(42, 0.92860007)\n",
      "(43, 0.92880011)\n",
      "(44, 0.92920017)\n",
      "(45, 0.92970014)\n",
      "(46, 0.93100011)\n",
      "(47, 0.93150014)\n",
      "(48, 0.93240011)\n",
      "(49, 0.9331001)\n",
      "(50, 0.93380016)\n",
      "(51, 0.93430012)\n",
      "(52, 0.93510014)\n",
      "(53, 0.93540013)\n",
      "(54, 0.93590015)\n",
      "(55, 0.93650013)\n",
      "(56, 0.9370001)\n",
      "(57, 0.93760014)\n",
      "(58, 0.93800008)\n",
      "(59, 0.93850011)\n",
      "(60, 0.93910021)\n",
      "(61, 0.9392001)\n",
      "(62, 0.93940008)\n",
      "(63, 0.94030011)\n",
      "(64, 0.94070005)\n",
      "(65, 0.94110012)\n",
      "(66, 0.94170016)\n",
      "(67, 0.94250011)\n",
      "(68, 0.94290006)\n",
      "(69, 0.94360006)\n",
      "(70, 0.94370019)\n",
      "(71, 0.94450021)\n",
      "(72, 0.94490004)\n",
      "(73, 0.94540012)\n",
      "(74, 0.94610012)\n",
      "(75, 0.94680005)\n",
      "(76, 0.9467001)\n",
      "(77, 0.94730014)\n",
      "(78, 0.94730014)\n",
      "(79, 0.94750011)\n",
      "(80, 0.94790012)\n",
      "(81, 0.94800019)\n",
      "(82, 0.94860005)\n",
      "(83, 0.94880009)\n",
      "(84, 0.94890016)\n",
      "(85, 0.94930011)\n",
      "(86, 0.95000017)\n",
      "(87, 0.95040017)\n",
      "(88, 0.95110011)\n",
      "(89, 0.95130008)\n",
      "(90, 0.95170009)\n",
      "(91, 0.95200014)\n",
      "(92, 0.95240009)\n",
      "(93, 0.95260012)\n",
      "(94, 0.95320016)\n",
      "(95, 0.95360017)\n",
      "(96, 0.95370007)\n",
      "(97, 0.95420015)\n",
      "(98, 0.95440018)\n",
      "(99, 0.9545002)\n"
     ]
    }
   ],
   "source": [
    "# Launch the graph in a session\n",
    "with tf.Session() as sess:\n",
    "    # create a log writer. run 'tensorboard --logdir=./logs/perceptron'\n",
    "    writer = tf.train.SummaryWriter(\"./logs/perceptron\", sess.graph)\n",
    "    merged = tf.merge_all_summaries()\n",
    "    \n",
    "    # you need to initialize all variables\n",
    "    tf.initialize_all_variables().run()\n",
    "\n",
    "    # 100 batches of size 128\n",
    "    for i in range(100):\n",
    "        for start, end in zip(range(0, len(trX), 128), range(128, len(trX)+1, 128)):\n",
    "            sess.run(train_op, feed_dict={X: trX[start:end], Y: trY[start:end]})\n",
    "        summary, accuracy = sess.run([merged, acc], feed_dict={X: teX, Y: teY})\n",
    "        writer.add_summary(summary, i)\n",
    "        print(i, accuracy)"
   ]
  },
  {
   "cell_type": "code",
   "execution_count": null,
   "metadata": {
    "collapsed": true
   },
   "outputs": [],
   "source": []
  }
 ],
 "metadata": {
  "kernelspec": {
   "display_name": "Python 2",
   "language": "python",
   "name": "python2"
  },
  "language_info": {
   "codemirror_mode": {
    "name": "ipython",
    "version": 2
   },
   "file_extension": ".py",
   "mimetype": "text/x-python",
   "name": "python",
   "nbconvert_exporter": "python",
   "pygments_lexer": "ipython2",
   "version": "2.7.12"
  }
 },
 "nbformat": 4,
 "nbformat_minor": 1
}
